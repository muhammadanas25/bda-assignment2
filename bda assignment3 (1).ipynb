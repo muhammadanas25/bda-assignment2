{
 "cells": [
  {
   "cell_type": "code",
   "execution_count": 24,
   "metadata": {},
   "outputs": [],
   "source": [
    "My_Dict = {\n",
    "'person_1':{ 'name' :  'Abdul Rafay', 'age':22, 'Interests':['football','cricket'], 'amount_deposited':\n",
    "[24000,26000] },\n",
    "'person_2':{ 'name' : 'Nancy James', 'age':23, 'Interests':['baseball','cricket'], 'amount_deposited':\n",
    "[24000,27000] },\n",
    "'person_3':{ 'name' : 'Selena Gomez', 'age':26,' Interests':['baseball','table tennis'],\n",
    "'amount_deposited':[24000,28000] }\n",
    "}"
   ]
  },
  {
   "cell_type": "code",
   "execution_count": 45,
   "metadata": {},
   "outputs": [],
   "source": [
    "def get_salutation(s):\n",
    "    data=My_Dict.copy()\n",
    "    d={}\n",
    "    start =s.lower().lstrip()[0]\n",
    "    print(start)\n",
    "    if (start>='a' and start<='g'):\n",
    "        \n",
    "        \n",
    "        return 'Mr.'\n",
    "    elif(start=='s' or start=='m' or start=='k'):\n",
    "        return \"\"\n",
    "    else :\n",
    "        return \"Ms.\""
   ]
  },
  {
   "cell_type": "code",
   "execution_count": 51,
   "metadata": {},
   "outputs": [
    {
     "name": "stdout",
     "output_type": "stream",
     "text": [
      "a\n",
      "Mr.\n"
     ]
    }
   ],
   "source": [
    "s=get_salutation(\"abdul rafay\")\n",
    "print(s)"
   ]
  },
  {
   "cell_type": "code",
   "execution_count": 34,
   "metadata": {},
   "outputs": [
    {
     "data": {
      "text/plain": [
       "'Abdul Rafay'"
      ]
     },
     "execution_count": 34,
     "metadata": {},
     "output_type": "execute_result"
    }
   ],
   "source": [
    "My_Dict['person_1']['name']"
   ]
  },
  {
   "cell_type": "code",
   "execution_count": 36,
   "metadata": {},
   "outputs": [
    {
     "name": "stdout",
     "output_type": "stream",
     "text": [
      "('person_1', {'name': 'Abdul Rafay', 'age': 22, 'Interests': ['football', 'cricket'], 'amount_deposited': [24000, 26000]})\n",
      "('person_2', {'name': 'Nancy James', 'age': 23, 'Interests': ['baseball', 'cricket'], 'amount_deposited': [24000, 27000]})\n",
      "('person_3', {'name': 'Selena Gomez', 'age': 26, ' Interests': ['baseball', 'table tennis'], 'amount_deposited': [24000, 28000]})\n"
     ]
    }
   ],
   "source": [
    "for i in My_Dict.items():\n",
    "    print (i)"
   ]
  },
  {
   "cell_type": "code",
   "execution_count": 52,
   "metadata": {
    "scrolled": true
   },
   "outputs": [
    {
     "name": "stdout",
     "output_type": "stream",
     "text": [
      "a\n",
      "n\n",
      "s\n"
     ]
    },
    {
     "data": {
      "text/plain": [
       "{'person_1': 'Mr.Abdul Rafay',\n",
       " 'person_2': 'Ms.Nancy James',\n",
       " 'person_3': 'Selena Gomez'}"
      ]
     },
     "execution_count": 52,
     "metadata": {},
     "output_type": "execute_result"
    }
   ],
   "source": [
    "dict(map(lambda x: (x[0],get_salutation(x[1]['name'])+x[1]['name']),My_Dict.items()))"
   ]
  },
  {
   "cell_type": "code",
   "execution_count": 63,
   "metadata": {},
   "outputs": [
    {
     "ename": "SyntaxError",
     "evalue": "invalid syntax (<ipython-input-63-99516eef1d1b>, line 1)",
     "output_type": "error",
     "traceback": [
      "\u001b[1;36m  File \u001b[1;32m\"<ipython-input-63-99516eef1d1b>\"\u001b[1;36m, line \u001b[1;32m1\u001b[0m\n\u001b[1;33m    dict(map(lambda x: (x[0]={\"name\":get_salutation(x[1]['name'])+x[1]['name']},My_Dict.items()\u001b[0m\n\u001b[1;37m                            ^\u001b[0m\n\u001b[1;31mSyntaxError\u001b[0m\u001b[1;31m:\u001b[0m invalid syntax\n"
     ]
    }
   ],
   "source": [
    "dict(map(lambda x: (x[0]={\"name\":get_salutation(x[1]['name']+x[1]['name']}),My_Dict.items())"
   ]
  },
  {
   "cell_type": "code",
   "execution_count": 53,
   "metadata": {},
   "outputs": [
    {
     "ename": "SyntaxError",
     "evalue": "invalid syntax (<ipython-input-53-ca4a68c8b423>, line 2)",
     "output_type": "error",
     "traceback": [
      "\u001b[1;36m  File \u001b[1;32m\"<ipython-input-53-ca4a68c8b423>\"\u001b[1;36m, line \u001b[1;32m2\u001b[0m\n\u001b[1;33m    d.\"a\"=\"aa\"\u001b[0m\n\u001b[1;37m      ^\u001b[0m\n\u001b[1;31mSyntaxError\u001b[0m\u001b[1;31m:\u001b[0m invalid syntax\n"
     ]
    }
   ],
   "source": []
  },
  {
   "cell_type": "code",
   "execution_count": 62,
   "metadata": {},
   "outputs": [
    {
     "ename": "TypeError",
     "evalue": "'dict_items' object is not subscriptable",
     "output_type": "error",
     "traceback": [
      "\u001b[1;31m---------------------------------------------------------------------------\u001b[0m",
      "\u001b[1;31mTypeError\u001b[0m                                 Traceback (most recent call last)",
      "\u001b[1;32m<ipython-input-62-2080430ae3f6>\u001b[0m in \u001b[0;36m<module>\u001b[1;34m\u001b[0m\n\u001b[1;32m----> 1\u001b[1;33m \u001b[0mMy_Dict\u001b[0m\u001b[1;33m.\u001b[0m\u001b[0mitems\u001b[0m\u001b[1;33m(\u001b[0m\u001b[1;33m)\u001b[0m\u001b[1;33m[\u001b[0m\u001b[1;34m'person_1'\u001b[0m\u001b[1;33m]\u001b[0m\u001b[1;33m\u001b[0m\u001b[1;33m\u001b[0m\u001b[0m\n\u001b[0m",
      "\u001b[1;31mTypeError\u001b[0m: 'dict_items' object is not subscriptable"
     ]
    }
   ],
   "source": [
    "My_Dict.items()"
   ]
  },
  {
   "cell_type": "code",
   "execution_count": 64,
   "metadata": {},
   "outputs": [],
   "source": [
    "import functools\n"
   ]
  },
  {
   "cell_type": "code",
   "execution_count": null,
   "metadata": {},
   "outputs": [],
   "source": [
    "print(functools.reduce(lambda a, b: a+b, My_Dict.items()))"
   ]
  },
  {
   "cell_type": "code",
   "execution_count": 67,
   "metadata": {},
   "outputs": [
    {
     "data": {
      "text/plain": [
       "{'person_1': {'name': 'Abdul Rafay',\n",
       "  'age': 22,\n",
       "  'Interests': ['football', 'cricket'],\n",
       "  'amount_deposited': [24000, 26000]},\n",
       " 'person_2': {'name': 'Nancy James',\n",
       "  'age': 23,\n",
       "  'Interests': ['baseball', 'cricket'],\n",
       "  'amount_deposited': [24000, 27000]},\n",
       " 'person_3': {'name': 'Selena Gomez',\n",
       "  'age': 26,\n",
       "  ' Interests': ['baseball', 'table tennis'],\n",
       "  'amount_deposited': [24000, 28000]}}"
      ]
     },
     "execution_count": 67,
     "metadata": {},
     "output_type": "execute_result"
    }
   ],
   "source": [
    "dict(filter(lambda x: x[1]['name'].strip().lower()[0]!='s' or x[1]['name'].strip().lower()[0]!='m' or x[1]['name'].strip().lower()[0]!='k', My_Dict.items()))"
   ]
  },
  {
   "cell_type": "code",
   "execution_count": null,
   "metadata": {},
   "outputs": [],
   "source": [
    "def processing(d):\n",
    "    from datetime import date\n",
    "\n",
    "    today = date.today()\n",
    "    d1['current_Date']=today\n",
    "    d1=(functools.reduce(lambda a, b: a+b,My_Dict))"
   ]
  },
  {
   "cell_type": "code",
   "execution_count": null,
   "metadata": {},
   "outputs": [],
   "source": [
    "import json\n",
    "with open('names.json', 'w') as fp:\n",
    "    json.dump(d2, fp)"
   ]
  }
 ],
 "metadata": {
  "kernelspec": {
   "display_name": "Python 3",
   "language": "python",
   "name": "python3"
  },
  "language_info": {
   "codemirror_mode": {
    "name": "ipython",
    "version": 3
   },
   "file_extension": ".py",
   "mimetype": "text/x-python",
   "name": "python",
   "nbconvert_exporter": "python",
   "pygments_lexer": "ipython3",
   "version": "3.8.5"
  }
 },
 "nbformat": 4,
 "nbformat_minor": 4
}
